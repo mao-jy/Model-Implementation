{
 "cells": [
  {
   "cell_type": "code",
   "execution_count": 20,
   "metadata": {},
   "outputs": [],
   "source": [
    "from keras.layers import Conv2D, BatchNormalization, Activation, Add, Input, ZeroPadding2D, MaxPooling2D, Lambda, Flatten, Dense\n",
    "from keras import Model\n",
    "from keras import backend as K"
   ]
  },
  {
   "cell_type": "markdown",
   "metadata": {},
   "source": [
    "# 1 模型定义"
   ]
  },
  {
   "cell_type": "markdown",
   "metadata": {},
   "source": [
    "## 1.1 Identity Block"
   ]
  },
  {
   "cell_type": "code",
   "execution_count": 21,
   "metadata": {},
   "outputs": [],
   "source": [
    "def identity_block(input_tensor, kernel_size, filters, stage, block):\n",
    "    \n",
    "    name_base = f'conv{stage}_block{block}'\n",
    "    \n",
    "    filter1, filter2, filter3 = filters\n",
    "    \n",
    "    x = Conv2D(filter1, (1, 1), name=f'{name_base}_1_conv')(input_tensor)\n",
    "    x = BatchNormalization(name=f'{name_base}_1_bn')(x)\n",
    "    x = Activation('relu')(x)\n",
    "\n",
    "    x = Conv2D(filter2, kernel_size, padding='same', name=f'{name_base}_2_conv')(x)\n",
    "    x = BatchNormalization(name=f'{name_base}_2_bn')(x)\n",
    "    x = Activation('relu')(x)\n",
    "\n",
    "    x = Conv2D(filter3, (1, 1), name=f'{name_base}_3_conv')(x)\n",
    "    x = BatchNormalization(name=f'{name_base}_3_bn')(x)\n",
    "\n",
    "    x = Add()([x, input_tensor])\n",
    "    x = Activation('relu')(x)\n",
    "    \n",
    "    return x"
   ]
  },
  {
   "cell_type": "markdown",
   "metadata": {},
   "source": [
    "## 1.2 Convolutional Block"
   ]
  },
  {
   "cell_type": "code",
   "execution_count": 22,
   "metadata": {},
   "outputs": [],
   "source": [
    "def convolutional_block(input_tensor, kernel_size, filters, stage, block, strides=(2, 2)):\n",
    "    \n",
    "    name_base = f'conv{stage}_block{block}'\n",
    "    \n",
    "    filter1, filter2, filter3 = filters\n",
    "    \n",
    "    # shortcut，与identity的不同点1\n",
    "    shortcut = Conv2D(filter3, (1, 1), strides=strides, name=f'{name_base}_0_conv')(input_tensor)\n",
    "    shortcut = BatchNormalization(name=f'{name_base}_0_bn')(shortcut)\n",
    "    \n",
    "    x = Conv2D(filter1, (1, 1), strides=strides, name=f'{name_base}_1_conv')(input_tensor)    # 步长为2，与identity_block的不同点2\n",
    "    x = BatchNormalization(name=f'{name_base}_1_bn')(x)\n",
    "    x = Activation('relu')(x)\n",
    "    \n",
    "    x = Conv2D(filter2, kernel_size, padding='same', name=f'{name_base}_2_conv')(x)\n",
    "    x = BatchNormalization(name=f'{name_base}_2_bn')(x)\n",
    "    x = Activation('relu')(x)\n",
    "    \n",
    "    x = Conv2D(filter3, (1, 1), name=f'{name_base}_3_conv')(x)\n",
    "    x = BatchNormalization(name=f'{name_base}_3_bn')(x)\n",
    "    \n",
    "    x = Add()([x, shortcut])\n",
    "    x = Activation('relu')(x)\n",
    "    \n",
    "    return x\n"
   ]
  },
  {
   "cell_type": "markdown",
   "metadata": {},
   "source": [
    "## 1.3 ResNet50"
   ]
  },
  {
   "cell_type": "code",
   "execution_count": 23,
   "metadata": {},
   "outputs": [],
   "source": [
    "def ResNet50(input_shape, classes):\n",
    "    \n",
    "    # 输入\n",
    "    x_input = Input(shape=input_shape, name='input')\n",
    "    \n",
    "    # 零填充\n",
    "    x = ZeroPadding2D((3, 3))(x_input)\n",
    "    \n",
    "    # stage 1\n",
    "    x = Conv2D(64, (7, 7), strides=(2, 2), name='conv1_conv')(x)\n",
    "    x = BatchNormalization(name='conv1_bn')(x)\n",
    "    x = Activation('relu')(x)\n",
    "    x = ZeroPadding2D((1, 1))(x)    # keras的内置ResNet50有这个零填充，可以直接去掉\n",
    "    x = MaxPooling2D((3, 3), strides=(2, 2))(x)\n",
    "    \n",
    "    # stage 2\n",
    "    x = convolutional_block(x, (3, 3), [64, 64, 256], stage=2, block=1, strides=(1, 1))    # 前面的max pooling已经实现降维，所以这里的strides为(1, 1)\n",
    "    x = identity_block(x, (3, 3), [64, 64, 256], stage=2, block=2)\n",
    "    x = identity_block(x, (3, 3), [64, 64, 256], stage=2, block=3)\n",
    "    \n",
    "    # stage 3\n",
    "    x = convolutional_block(x, (3, 3), [128, 128, 512], stage=3, block=1, strides=(2, 2))\n",
    "    x = identity_block(x, (3, 3), [128, 128, 512], stage=3, block=2)\n",
    "    x = identity_block(x, (3, 3), [128, 128, 512], stage=3, block=3)\n",
    "    x = identity_block(x, (3, 3), [128, 128, 512], stage=3, block=4)\n",
    "\n",
    "    # stage 4\n",
    "    x = convolutional_block(x, (3, 3), [256, 256, 1024], stage=4, block=1, strides=(2, 2))\n",
    "    x = identity_block(x, (3, 3), [256, 256, 1024], stage=4, block=2)\n",
    "    x = identity_block(x, (3, 3), [256, 256, 1024], stage=4, block=3)\n",
    "    x = identity_block(x, (3, 3), [256, 256, 1024], stage=4, block=4)\n",
    "    x = identity_block(x, (3, 3), [256, 256, 1024], stage=4, block=5)\n",
    "    x = identity_block(x, (3, 3), [256, 256, 1024], stage=4, block=6)\n",
    "    \n",
    "    # stage 5\n",
    "    x = convolutional_block(x, (3, 3), [512, 512, 2048], stage=5, block=1, strides=(2, 2))\n",
    "    x = identity_block(x, (3, 3), [512, 512, 2048], stage=5, block=2)\n",
    "    x = identity_block(x, (3, 3), [512, 512, 2048], stage=5, block=3)\n",
    "\n",
    "    # 平均池化层\n",
    "    x = Lambda(lambda y: K.mean(y,axis=[1,2]),name='avgpool')(x)    # 全局池化，每个通道产生一个特征值\n",
    "    \n",
    "    # 全连接层\n",
    "    x = Dense(classes, activation='softmax', name='fc' + str(classes))(x)\n",
    "    \n",
    "    # 创建模型\n",
    "    model = Model(inputs=x_input, outputs=x, name='ResNet50')\n",
    "    \n",
    "    return model"
   ]
  },
  {
   "cell_type": "markdown",
   "metadata": {},
   "source": [
    "# 2 训练"
   ]
  },
  {
   "cell_type": "code",
   "execution_count": 24,
   "metadata": {},
   "outputs": [
    {
     "name": "stdout",
     "output_type": "stream",
     "text": [
      "Found 2000 images belonging to 2 classes.\n",
      "Found 1000 images belonging to 2 classes.\n",
      "Epoch 1/30\n",
      "100/100 [==============================] - 17s 171ms/step - loss: 0.2625 - acc: 0.8855 - val_loss: 0.7236 - val_acc: 0.5000\n",
      "Epoch 2/30\n",
      "100/100 [==============================] - 16s 164ms/step - loss: 0.0387 - acc: 0.9920 - val_loss: 0.7839 - val_acc: 0.5050\n",
      "Epoch 3/30\n",
      "100/100 [==============================] - 16s 164ms/step - loss: 0.0207 - acc: 0.9940 - val_loss: 1.4531 - val_acc: 0.5040\n",
      "Epoch 4/30\n",
      "100/100 [==============================] - 17s 165ms/step - loss: 0.0064 - acc: 0.9990 - val_loss: 1.3994 - val_acc: 0.5070\n",
      "Epoch 5/30\n",
      "100/100 [==============================] - 17s 166ms/step - loss: 0.0090 - acc: 0.9975 - val_loss: 1.1072 - val_acc: 0.5100\n",
      "Epoch 6/30\n",
      "100/100 [==============================] - 17s 165ms/step - loss: 0.0048 - acc: 0.9990 - val_loss: 1.4485 - val_acc: 0.5360\n",
      "Epoch 7/30\n",
      "100/100 [==============================] - 17s 166ms/step - loss: 0.0024 - acc: 0.9990 - val_loss: 0.9570 - val_acc: 0.6960\n",
      "Epoch 8/30\n",
      "100/100 [==============================] - 17s 165ms/step - loss: 0.0030 - acc: 0.9990 - val_loss: 0.5035 - val_acc: 0.8340\n",
      "Epoch 9/30\n",
      "100/100 [==============================] - 17s 166ms/step - loss: 0.0012 - acc: 1.0000 - val_loss: 0.5824 - val_acc: 0.8690\n",
      "Epoch 10/30\n",
      "100/100 [==============================] - 17s 166ms/step - loss: 0.0020 - acc: 0.9990 - val_loss: 0.3092 - val_acc: 0.9240\n",
      "Epoch 11/30\n",
      "100/100 [==============================] - 17s 165ms/step - loss: 0.0013 - acc: 0.9995 - val_loss: 0.1912 - val_acc: 0.9450\n",
      "Epoch 12/30\n",
      "100/100 [==============================] - 16s 165ms/step - loss: 0.0010 - acc: 0.9995 - val_loss: 0.1472 - val_acc: 0.9570\n",
      "Epoch 13/30\n",
      "100/100 [==============================] - 17s 165ms/step - loss: 3.6944e-04 - acc: 1.0000 - val_loss: 0.1340 - val_acc: 0.9590\n",
      "Epoch 14/30\n",
      "100/100 [==============================] - 17s 165ms/step - loss: 1.7869e-04 - acc: 1.0000 - val_loss: 0.1790 - val_acc: 0.9500\n",
      "Epoch 15/30\n",
      "100/100 [==============================] - 17s 165ms/step - loss: 2.1832e-04 - acc: 1.0000 - val_loss: 0.1783 - val_acc: 0.9590\n",
      "Epoch 16/30\n",
      "100/100 [==============================] - 17s 165ms/step - loss: 0.0014 - acc: 0.9995 - val_loss: 0.1578 - val_acc: 0.9570\n",
      "Epoch 17/30\n",
      "100/100 [==============================] - 17s 166ms/step - loss: 3.5606e-04 - acc: 1.0000 - val_loss: 0.1757 - val_acc: 0.9600\n",
      "Epoch 18/30\n",
      "100/100 [==============================] - 17s 166ms/step - loss: 1.3249e-04 - acc: 1.0000 - val_loss: 0.1889 - val_acc: 0.9570\n",
      "Epoch 19/30\n",
      "100/100 [==============================] - 17s 165ms/step - loss: 0.0029 - acc: 0.9995 - val_loss: 0.2261 - val_acc: 0.9550\n",
      "Epoch 20/30\n",
      "100/100 [==============================] - 17s 166ms/step - loss: 1.5301e-04 - acc: 1.0000 - val_loss: 0.2495 - val_acc: 0.9520\n",
      "Epoch 21/30\n",
      "100/100 [==============================] - 17s 165ms/step - loss: 9.7406e-05 - acc: 1.0000 - val_loss: 0.2057 - val_acc: 0.9560\n",
      "Epoch 22/30\n",
      "100/100 [==============================] - 17s 165ms/step - loss: 0.0019 - acc: 0.9990 - val_loss: 0.1818 - val_acc: 0.9600\n",
      "Epoch 23/30\n",
      "100/100 [==============================] - 17s 165ms/step - loss: 2.2809e-04 - acc: 1.0000 - val_loss: 0.1717 - val_acc: 0.9580\n",
      "Epoch 24/30\n",
      "100/100 [==============================] - 17s 166ms/step - loss: 0.0013 - acc: 0.9995 - val_loss: 0.2290 - val_acc: 0.9530\n",
      "Epoch 25/30\n",
      "100/100 [==============================] - 17s 166ms/step - loss: 5.6526e-05 - acc: 1.0000 - val_loss: 0.2908 - val_acc: 0.9490\n",
      "Epoch 26/30\n",
      "100/100 [==============================] - 17s 166ms/step - loss: 4.1192e-04 - acc: 1.0000 - val_loss: 0.1547 - val_acc: 0.9600\n",
      "Epoch 27/30\n",
      "100/100 [==============================] - 17s 166ms/step - loss: 0.0044 - acc: 0.9995 - val_loss: 0.1472 - val_acc: 0.9650\n",
      "Epoch 28/30\n",
      "100/100 [==============================] - 17s 167ms/step - loss: 7.4775e-05 - acc: 1.0000 - val_loss: 0.1704 - val_acc: 0.9640\n",
      "Epoch 29/30\n",
      "100/100 [==============================] - 17s 167ms/step - loss: 1.7528e-05 - acc: 1.0000 - val_loss: 0.1478 - val_acc: 0.9650\n",
      "Epoch 30/30\n",
      "100/100 [==============================] - 17s 166ms/step - loss: 1.2112e-05 - acc: 1.0000 - val_loss: 0.2763 - val_acc: 0.9510\n"
     ]
    }
   ],
   "source": [
    "from keras.preprocessing.image import ImageDataGenerator\n",
    "from keras.optimizers import RMSprop\n",
    "\n",
    "datagen = ImageDataGenerator(rescale=1./255)\n",
    "\n",
    "train_generator = datagen.flow_from_directory(r'datasets/dogs-vs-cats-small/train', \n",
    "                                              target_size=(150, 150), \n",
    "                                              batch_size=20, \n",
    "                                              class_mode='categorical')\n",
    "\n",
    "val_generator = datagen.flow_from_directory(r'datasets/dogs-vs-cats-small/val', \n",
    "                                            target_size=(150, 150), \n",
    "                                            batch_size=20, \n",
    "                                            class_mode='categorical')\n",
    "\n",
    "# 模型初始化并加载预训练模型\n",
    "model = ResNet50((150, 150, 3), classes=2)\n",
    "model.load_weights(r'resnet50_weights_tf_dim_ordering_tf_kernels.h5', by_name=True)\n",
    "\n",
    "model.compile(loss='categorical_crossentropy', \n",
    "              optimizer=RMSprop(lr=2e-5), \n",
    "              metrics=['acc'])\n",
    "\n",
    "history = model.fit(train_generator, \n",
    "          epochs=30, \n",
    "          batch_size=20, \n",
    "          validation_data=val_generator, \n",
    "          validation_steps=50)"
   ]
  },
  {
   "cell_type": "markdown",
   "metadata": {},
   "source": [
    "# 3 画图"
   ]
  },
  {
   "cell_type": "markdown",
   "metadata": {},
   "source": [
    "## 3.1 Loss"
   ]
  },
  {
   "cell_type": "code",
   "execution_count": 32,
   "metadata": {},
   "outputs": [
    {
     "data": {
      "image/png": "[encoded data removed]",
      "text/plain": [
       "<Figure size 432x288 with 1 Axes>"
      ]
     },
     "metadata": {
      "needs_background": "light"
     },
     "output_type": "display_data"
    }
   ],
   "source": [
    "import matplotlib.pyplot as plt\n",
    "\n",
    "loss = history.history['loss']\n",
    "acc = history.history['acc']\n",
    "\n",
    "val_loss = history.history['val_loss']\n",
    "val_acc = history.history['val_acc']\n",
    "\n",
    "epochs = range(1, len(loss) + 1)\n",
    "\n",
    "plt.figure()\n",
    "\n",
    "plt.plot(epochs, loss, 'b', label='train')\n",
    "plt.plot(epochs, val_loss, 'r', label='val')\n",
    "  \n",
    "\n",
    "plt.legend()\n",
    "plt.show()"
   ]
  },
  {
   "cell_type": "markdown",
   "metadata": {},
   "source": [
    "## 3.2 Accuracy"
   ]
  },
  {
   "cell_type": "code",
   "execution_count": 45,
   "metadata": {},
   "outputs": [
    {
     "data": {
      "image/png": "[encoded data removed]",
      "text/plain": [
       "<Figure size 432x288 with 1 Axes>"
      ]
     },
     "metadata": {
      "needs_background": "light"
     },
     "output_type": "display_data"
    }
   ],
   "source": [
    "plt.figure()\n",
    "plt.plot(epochs, acc, 'b', label='train')\n",
    "plt.plot(epochs, val_acc, 'r', label='val')\n",
    "\n",
    "max_epoch = epochs[-2]\n",
    "max_val_acc = round(val_acc[-2], 2)\n",
    "plt.plot(max_epoch, max_val_acc, 'ro')\n",
    "plt.text(max_epoch, max_val_acc, (max_epoch, max_val_acc), ha='center', va='top', fontsize=10)\n",
    "\n",
    "plt.legend()\n",
    "plt.show()"
   ]
  }
 ],
 "metadata": {
  "kernelspec": {
   "display_name": "keras",
   "language": "python",
   "name": "keras"
  },
  "language_info": {
   "codemirror_mode": {
    "name": "ipython",
    "version": 3
   },
   "file_extension": ".py",
   "mimetype": "text/x-python",
   "name": "python",
   "nbconvert_exporter": "python",
   "pygments_lexer": "ipython3",
   "version": "3.6.10"
  }
 },
 "nbformat": 4,
 "nbformat_minor": 4
}
